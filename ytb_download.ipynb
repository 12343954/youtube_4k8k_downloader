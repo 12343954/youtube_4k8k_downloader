{
 "cells": [
  {
   "cell_type": "code",
   "execution_count": null,
   "id": "6983098f-63b6-4907-a36e-6c5cd0f40e69",
   "metadata": {},
   "outputs": [],
   "source": [
    "!python -V"
   ]
  },
  {
   "cell_type": "code",
   "execution_count": null,
   "id": "d16182ec-e544-4b9a-bd1f-94e5e659b8be",
   "metadata": {},
   "outputs": [],
   "source": [
    "!pip install -r requirements.txt"
   ]
  },
  {
   "cell_type": "code",
   "execution_count": null,
   "id": "b1429abb-e446-4fb1-b9c0-4b80222454c1",
   "metadata": {},
   "outputs": [],
   "source": [
    "from pytubefix import YouTube\n",
    "from pytubefix.cli import on_progress\n",
    "\n",
    "from rich.console import Console\n",
    "from rich.table import Table\n",
    "\n",
    "import os, time, subprocess\n",
    "import ffmpeg\n"
   ]
  },
  {
   "cell_type": "code",
   "execution_count": null,
   "id": "73677326-bd19-44e6-b3af-e6260c0044b4",
   "metadata": {},
   "outputs": [],
   "source": [
    "console = Console()"
   ]
  },
  {
   "cell_type": "code",
   "execution_count": null,
   "id": "0e4b5eaa-7899-44f7-a273-ad8d526a65d3",
   "metadata": {},
   "outputs": [],
   "source": [
    "# https://www.youtube.com/watch?v=sQ22pm-xvrE\n",
    "url_4k = input('Enter a youtube url:')\n",
    "if url_4k is None:\n",
    "    url_4k = 'https://www.youtube.com/watch?v=R3GfuzLMPkA'\n",
    "    \n",
    "url_8k = 'https://www.youtube.com/watch?v=6I5nor_880M'\n",
    "proxies = {\n",
    "    # 'http': 'http://127.0.0.1:7890', \n",
    "    'https': 'http://127.0.0.1:7890'\n",
    "}"
   ]
  },
  {
   "cell_type": "code",
   "execution_count": null,
   "id": "a973bda0-e4f8-44f6-9005-5afd31adc567",
   "metadata": {},
   "outputs": [],
   "source": [
    "keys = [\n",
    "    # \"_monostate\",\n",
    "    \"itag\",\n",
    "    \"mime_type\",\n",
    "    \"resolution\",\n",
    "    \"fps\",\n",
    "    # \"codecs\",\n",
    "    # \"type\",\n",
    "    # \"subtype\",\n",
    "    \"video_codec\",\n",
    "    # \"audio_codec\",\n",
    "    # \"is_otf\",\n",
    "    \"bitrate\",\n",
    "    # \"_filesize\",\n",
    "    # \"_filesize_kb\",\n",
    "    \"_filesize_mb\",\n",
    "    # \"_filesize_gb\",\n",
    "    # \"is_dash\",\n",
    "    # \"abr\",\n",
    "    # \"_width\",\n",
    "    # \"_height\",\n",
    "    # \"is_3d\",\n",
    "    # \"is_hdr\",\n",
    "    # \"is_live\",\n",
    "    # \"includes_multiple_audio_tracks\",\n",
    "    # \"is_default_audio_track\",\n",
    "    # \"audio_track_name\",\n",
    "    \"url\",\n",
    "]"
   ]
  },
  {
   "cell_type": "code",
   "execution_count": null,
   "id": "9746f89c-a387-4e45-b505-8c077204355b",
   "metadata": {},
   "outputs": [],
   "source": [
    "table = Table(show_header=True, header_style=\"bold magenta\")\n",
    "for key in keys:\n",
    "    table.add_column(key)"
   ]
  },
  {
   "cell_type": "code",
   "execution_count": null,
   "id": "a5ecbfab-7d0e-4270-9fa3-12616ae5f519",
   "metadata": {},
   "outputs": [],
   "source": [
    "list(map(lambda x: x, keys)) "
   ]
  },
  {
   "cell_type": "code",
   "execution_count": null,
   "id": "353fb10f-b9f8-44d6-b49d-7a6760f578d3",
   "metadata": {},
   "outputs": [],
   "source": [
    "yt = YouTube(url_4k, proxies=proxies, on_progress_callback=on_progress)\n",
    "\n",
    "# poToken: \"MnQenNfHb5GLBh6kUYK8yaq-UhMBtrpjdlG668nFHu8CpDhsV2aAaU32sIbval9e4KUcX1nsQBbrKasXu0lYmIdhvz6E1ZOnQKGdK6TILzDZ2aqC9UDBx4wMDzIbxSlVpRqaKWa6dnIdxEFeeTHXkBRLhSP77Q==\"\n",
    "# visitorData: \"CgtpVXNqTE5LZDZONCjknK-6BjIKCgJISxIEGgAgGg%3D%3D\"\n",
    "# yt = YouTube(url_8k, proxies=proxies, on_progress_callback=on_progress,\n",
    "#             use_po_token=True)\n",
    "\n",
    "print(f'\\n\\nTitle= {yt.title}\\n')"
   ]
  },
  {
   "cell_type": "code",
   "execution_count": null,
   "id": "f4e3b906-0340-435f-84fc-bcdce9e25ad4",
   "metadata": {},
   "outputs": [],
   "source": [
    "for key in yt.streams[0].__dict__.keys():print(key) "
   ]
  },
  {
   "cell_type": "code",
   "execution_count": null,
   "id": "af32a38a-148a-48c1-996a-b6244fb28688",
   "metadata": {},
   "outputs": [],
   "source": [
    "VDO_8K = VDO_4K = VDO_1440P = VDO_1080P = False\n",
    "for k in ['4320p', '2160p', '1440p', '1080p']:\n",
    "    hd = yt.streams.filter(res=k).first()\n",
    "    if hd is None:\n",
    "        print(f'{k} ❌')\n",
    "        if k == '4320p': VDO_8K = False\n",
    "        elif k == '2160p': VDO_4K = False\n",
    "        elif k == '1440p': VDO_1440P = False\n",
    "        elif k == '1080p': VDO_1080P = False\n",
    "    else:\n",
    "        print(f'{k} ✅ {str(getattr(hd, \"_filesize_mb\")): >10} MB')\n",
    "        if k == '4320p': VDO_8K = True\n",
    "        elif k == '2160p': VDO_4K = True\n",
    "        elif k == '1440p': VDO_1440P = True\n",
    "        elif k == '1080p': VDO_1080P = True\n"
   ]
  },
  {
   "cell_type": "code",
   "execution_count": null,
   "id": "9ea6d514-972b-4d7f-ab58-a35e48a15cf0",
   "metadata": {},
   "outputs": [],
   "source": [
    "for idx, stream in enumerate(yt.streams.order_by('resolution').desc()):\n",
    "    # print(stream.__dict__['_filesize_gb'])\n",
    "    # row = tuple(map(lambda x: x, keys)) \n",
    "    row = tuple(map(lambda x: str(getattr(stream, x)), keys)) \n",
    "    # print(row)\n",
    "    table.add_row(*row)\n",
    "\n",
    "console.print(table)"
   ]
  },
  {
   "cell_type": "code",
   "execution_count": null,
   "id": "7ac3136b-c20d-4bf8-a409-10378f70dc09",
   "metadata": {},
   "outputs": [],
   "source": [
    "audio = yt.streams.filter(only_audio=True,mime_type=\"audio/mp4\").order_by(\"abr\").desc()\n",
    "audio.first()"
   ]
  },
  {
   "cell_type": "code",
   "execution_count": null,
   "id": "cf22162f-13ea-4b45-9ea0-e2c42c0d0a68",
   "metadata": {},
   "outputs": [],
   "source": [
    "output_dir = './output'\n",
    "temp_audio = 'temp1.mp3'\n",
    "temp_video = 'temp1.mp4'\n",
    "merge_file = '_merge_.mp4'\n",
    "\n",
    "if os.path.exists(os.path.join(output_dir, f'{yt.title}.mp4')):\n",
    "    os.remove(os.path.join(output_dir, f'{yt.title}.mp4'))\n",
    "if os.path.exists(os.path.join(output_dir, temp_audio)):\n",
    "    os.remove(os.path.join(output_dir, temp_audio))\n",
    "if os.path.exists(os.path.join(output_dir, temp_video)):\n",
    "    os.remove(os.path.join(output_dir, temp_video))\n",
    "if os.path.exists(os.path.join(output_dir, merge_file)):\n",
    "    os.remove(os.path.join(output_dir, merge_file))\n"
   ]
  },
  {
   "cell_type": "code",
   "execution_count": null,
   "id": "6651e445-1ccf-4e80-bcbc-15ac47225b1f",
   "metadata": {},
   "outputs": [],
   "source": [
    "\n",
    "print('audio downloading ...')\n",
    "audio = yt.streams.filter(only_audio=True, mime_type=\"audio/mp4\").order_by(\"abr\").desc()\n",
    "t = time.time()\n",
    "audio.first().download(output_path=output_dir, filename=temp_audio)\n",
    "print(f'done, ETA= {time.time() - t:.8f}s')"
   ]
  },
  {
   "cell_type": "code",
   "execution_count": null,
   "id": "c785f060-0ee4-4ccb-a5b9-ce37746ba604",
   "metadata": {},
   "outputs": [],
   "source": [
    "if VDO_8K:\n",
    "    print('8K Video downloading ...')\n",
    "    video = yt.streams.filter(res='4320p').first()\n",
    "elif not VDO_8K and VDO_4K:\n",
    "    print('4K Video downloading ...')\n",
    "    video = yt.streams.filter(res='2160p').first()\n",
    "elif not VDO_8K and not VDO_4K and VDO_1440P:\n",
    "    print('1440P Video downloading ...')\n",
    "    video = yt.streams.filter(res='1440p').first()\n",
    "elif not VDO_8K and not VDO_4K and not VDO_1440P and VDO_1080P:\n",
    "    print('1080P Video downloading ...')\n",
    "    video = yt.streams.filter(res='1080p').first()\n",
    "else:\n",
    "    print('❌ NO HD Video download!')\n",
    "\n",
    "t = time.time()\n",
    "video.download(output_path=output_dir, filename=temp_video)\n",
    "print(f'done, ETA= {time.time() - t:.8f}s')\n"
   ]
  },
  {
   "cell_type": "code",
   "execution_count": null,
   "id": "d841b887-f1df-4f89-8d76-ce4e52b34c56",
   "metadata": {},
   "outputs": [],
   "source": [
    "probe = ffmpeg.probe(os.path.join(output_dir, temp_video))"
   ]
  },
  {
   "cell_type": "code",
   "execution_count": null,
   "id": "661a36bf-ab60-471f-91cf-647585312dda",
   "metadata": {},
   "outputs": [],
   "source": [
    "# len(probe['streams'])\n",
    "info = probe['streams'][0]\n",
    "\n",
    "fps = str(info['r_frame_rate']).split('/')[0]\n",
    "\n",
    "print(f'{'fps': >10} = {fps}')\n",
    "print(f'{'encoder': >10} = {info['codec_long_name']}')\n",
    "print(f'{'resolution': >10} = {info['width']} x {info['height']}')\n",
    "print(f'{'ratio': >10} = {info['display_aspect_ratio']}')\n",
    "\n",
    "# info"
   ]
  },
  {
   "cell_type": "code",
   "execution_count": null,
   "id": "3bee22d5-668b-4598-b239-eb4ee1c33b42",
   "metadata": {},
   "outputs": [],
   "source": [
    "cmd = (' ').join(['ffmpeg',\n",
    "                  '-i', os.path.join(output_dir, temp_video),\n",
    "                  '-i', os.path.join(output_dir, temp_audio),\n",
    "                  '-r', fps,\n",
    "                  '-y',\n",
    "                  os.path.join(output_dir, merge_file)\n",
    "                  ])\n",
    "cmd"
   ]
  },
  {
   "cell_type": "code",
   "execution_count": null,
   "id": "18ace572-0d33-44ca-9b20-46b42af44cf3",
   "metadata": {},
   "outputs": [],
   "source": [
    "print('mergeing ...')\n",
    "# ffmpeg -i temp1.mp4 -i temp1.mp3 -y -r 30 1.mp4\n",
    "\n",
    "t = time.time()\n",
    "p = subprocess.Popen(cmd.split(), \n",
    "                     stdin=subprocess.PIPE, \n",
    "                     # creationflags=subprocess.CREATE_NO_WINDOW\n",
    "                    )\n",
    "p.wait()\n"
   ]
  },
  {
   "cell_type": "code",
   "execution_count": null,
   "id": "3a1e0209-8e1d-4e95-9cb5-c9033f054997",
   "metadata": {},
   "outputs": [],
   "source": [
    "os.rename(os.path.join(output_dir, merge_file),\n",
    "          os.path.join(output_dir, f'{yt.title}.mp4'))"
   ]
  },
  {
   "cell_type": "code",
   "execution_count": null,
   "id": "6e4cbe0f-d70c-4c8c-a2be-0ae0a22ed186",
   "metadata": {},
   "outputs": [],
   "source": [
    "if os.path.exists(os.path.join(output_dir, temp_audio)):\n",
    "    os.remove(os.path.join(output_dir, temp_audio))\n",
    "if os.path.exists(os.path.join(output_dir, temp_video)):\n",
    "    os.remove(os.path.join(output_dir, temp_video))"
   ]
  },
  {
   "cell_type": "code",
   "execution_count": null,
   "id": "567d1918-3d21-4fe6-a0f0-24aa9aee1dff",
   "metadata": {},
   "outputs": [],
   "source": [
    "print('done')\n"
   ]
  },
  {
   "cell_type": "code",
   "execution_count": null,
   "id": "89944381-13f4-4a3a-a9cd-fe051a2250f9",
   "metadata": {},
   "outputs": [],
   "source": []
  }
 ],
 "metadata": {
  "kernelspec": {
   "display_name": "Python 3 (ipykernel)",
   "language": "python",
   "name": "python3"
  },
  "language_info": {
   "codemirror_mode": {
    "name": "ipython",
    "version": 3
   },
   "file_extension": ".py",
   "mimetype": "text/x-python",
   "name": "python",
   "nbconvert_exporter": "python",
   "pygments_lexer": "ipython3",
   "version": "3.12.7"
  }
 },
 "nbformat": 4,
 "nbformat_minor": 5
}
