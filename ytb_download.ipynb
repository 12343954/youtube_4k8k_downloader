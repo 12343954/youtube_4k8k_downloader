{
 "cells": [
  {
   "cell_type": "code",
   "execution_count": null,
   "id": "6983098f-63b6-4907-a36e-6c5cd0f40e69",
   "metadata": {},
   "outputs": [],
   "source": [
    "!python -V"
   ]
  },
  {
   "cell_type": "code",
   "execution_count": null,
   "id": "d16182ec-e544-4b9a-bd1f-94e5e659b8be",
   "metadata": {},
   "outputs": [],
   "source": [
    "!pip install -r requirements.txt"
   ]
  },
  {
   "cell_type": "code",
   "execution_count": 1,
   "id": "b1429abb-e446-4fb1-b9c0-4b80222454c1",
   "metadata": {},
   "outputs": [],
   "source": [
    "from pytubefix import YouTube\n",
    "from pytubefix.cli import on_progress\n",
    "\n",
    "from rich.console import Console\n",
    "from rich.table import Table\n",
    "\n",
    "import os, time, subprocess\n",
    "import ffmpeg\n"
   ]
  },
  {
   "cell_type": "code",
   "execution_count": 2,
   "id": "73677326-bd19-44e6-b3af-e6260c0044b4",
   "metadata": {},
   "outputs": [],
   "source": [
    "console = Console()"
   ]
  },
  {
   "cell_type": "code",
   "execution_count": 20,
   "id": "4c6412e4-440b-457b-8b50-5637548764da",
   "metadata": {},
   "outputs": [],
   "source": [
    "def PrintOK(text):\n",
    "    console.log(f\"[green]{text}\")\n",
    "def PrintInfo(text):\n",
    "    console.log(f\"[blue]{text}\")\n",
    "def PrintWarning(text):\n",
    "    console.log(text, style=\"#EE9427\")\n",
    "def PrintRule(text):\n",
    "    console.rule(f\"[bold blue]{text}\")"
   ]
  },
  {
   "cell_type": "code",
   "execution_count": 21,
   "id": "f037824b-06dc-4d97-9c96-aba67db38c1d",
   "metadata": {},
   "outputs": [
    {
     "data": {
      "text/html": [
       "<pre style=\"white-space:pre;overflow-x:auto;line-height:normal;font-family:Menlo,'DejaVu Sans Mono',consolas,'Courier New',monospace\"><span style=\"color: #000080; text-decoration-color: #000080\">Github URL: </span><span style=\"color: #008000; text-decoration-color: #008000; text-decoration: underline\">https://github.com/12343954/youtube_4k8k_downloader</span>\n",
       "</pre>\n"
      ],
      "text/plain": [
       "\u001b[34mGithub URL: \u001b[0m\u001b[4;32mhttps://github.com/12343954/youtube_4k8k_downloader\u001b[0m\n"
      ]
     },
     "metadata": {},
     "output_type": "display_data"
    },
    {
     "name": "stdout",
     "output_type": "stream",
     "text": [
      "\n"
     ]
    }
   ],
   "source": [
    "console.print(\"[blue]Github URL: [green]https://github.com/12343954/youtube_4k8k_downloader\")\n",
    "print('')"
   ]
  },
  {
   "cell_type": "code",
   "execution_count": null,
   "id": "0e4b5eaa-7899-44f7-a273-ad8d526a65d3",
   "metadata": {},
   "outputs": [],
   "source": [
    "# https://www.youtube.com/watch?v=tUjIwYeVlQc\n",
    "url_4k = input('Enter a youtube url (prefer 4K or 8K): ')\n",
    "if url_4k is None:\n",
    "    url_4k = 'https://www.youtube.com/watch?v=R3GfuzLMPkA'\n",
    "    \n",
    "url_8k = 'https://www.youtube.com/watch?v=6I5nor_880M'\n",
    "proxies = {\n",
    "    # 'http': 'http://127.0.0.1:7890', \n",
    "    'https': 'http://127.0.0.1:7890'\n",
    "}"
   ]
  },
  {
   "cell_type": "code",
   "execution_count": null,
   "id": "a973bda0-e4f8-44f6-9005-5afd31adc567",
   "metadata": {},
   "outputs": [],
   "source": [
    "keys = [\n",
    "    # \"_monostate\",\n",
    "    \"itag\",\n",
    "    \"mime_type\",\n",
    "    \"resolution\",\n",
    "    \"fps\",\n",
    "    # \"codecs\",\n",
    "    # \"type\",\n",
    "    # \"subtype\",\n",
    "    \"video_codec\",\n",
    "    # \"audio_codec\",\n",
    "    # \"is_otf\",\n",
    "    \"bitrate\",\n",
    "    # \"_filesize\",\n",
    "    # \"_filesize_kb\",\n",
    "    \"_filesize_mb\",\n",
    "    # \"_filesize_gb\",\n",
    "    # \"is_dash\",\n",
    "    # \"abr\",\n",
    "    # \"_width\",\n",
    "    # \"_height\",\n",
    "    # \"is_3d\",\n",
    "    # \"is_hdr\",\n",
    "    # \"is_live\",\n",
    "    # \"includes_multiple_audio_tracks\",\n",
    "    # \"is_default_audio_track\",\n",
    "    # \"audio_track_name\",\n",
    "    \"url\",\n",
    "]"
   ]
  },
  {
   "cell_type": "code",
   "execution_count": null,
   "id": "a5ecbfab-7d0e-4270-9fa3-12616ae5f519",
   "metadata": {},
   "outputs": [],
   "source": [
    "list(map(lambda x: x, keys)) "
   ]
  },
  {
   "cell_type": "code",
   "execution_count": null,
   "id": "353fb10f-b9f8-44d6-b49d-7a6760f578d3",
   "metadata": {},
   "outputs": [],
   "source": [
    "yt = YouTube(url_4k, proxies=proxies, on_progress_callback=on_progress)\n",
    "\n",
    "# poToken: \"MnQenNfHb5GLBh6kUYK8yaq-UhMBtrpjdlG668nFHu8CpDhsV2aAaU32sIbval9e4KUcX1nsQBbrKasXu0lYmIdhvz6E1ZOnQKGdK6TILzDZ2aqC9UDBx4wMDzIbxSlVpRqaKWa6dnIdxEFeeTHXkBRLhSP77Q==\"\n",
    "# visitorData: \"CgtpVXNqTE5LZDZONCjknK-6BjIKCgJISxIEGgAgGg%3D%3D\"\n",
    "# yt = YouTube(url_8k, proxies=proxies, on_progress_callback=on_progress,\n",
    "#             use_po_token=True)\n",
    "\n",
    "# print(f'\\n\\nTitle= {yt.title}\\n')"
   ]
  },
  {
   "cell_type": "code",
   "execution_count": 17,
   "id": "4227c1d9-6461-4cb6-be8b-80570e6dd771",
   "metadata": {},
   "outputs": [
    {
     "data": {
      "text/html": [
       "<pre style=\"white-space:pre;overflow-x:auto;line-height:normal;font-family:Menlo,'DejaVu Sans Mono',consolas,'Courier New',monospace\">┏━━━━━━━━━━━━━━━━━━━━━━━━━━━━━━━━━━┓\n",
       "┃<span style=\"color: #800080; text-decoration-color: #800080; font-weight: bold\"> Title                            </span>┃\n",
       "┡━━━━━━━━━━━━━━━━━━━━━━━━━━━━━━━━━━┩\n",
       "│<span style=\"color: #800080; text-decoration-color: #800080\"> Star Wars: The Rise of Skywalker </span>│\n",
       "└──────────────────────────────────┘\n",
       "</pre>\n"
      ],
      "text/plain": [
       "┏━━━━━━━━━━━━━━━━━━━━━━━━━━━━━━━━━━┓\n",
       "┃\u001b[1;35m \u001b[0m\u001b[1;35mTitle                           \u001b[0m\u001b[1;35m \u001b[0m┃\n",
       "┡━━━━━━━━━━━━━━━━━━━━━━━━━━━━━━━━━━┩\n",
       "│\u001b[35m \u001b[0m\u001b[35mStar Wars: The Rise of Skywalker\u001b[0m\u001b[35m \u001b[0m│\n",
       "└──────────────────────────────────┘\n"
      ]
     },
     "metadata": {},
     "output_type": "display_data"
    },
    {
     "data": {
      "text/plain": [
       "[Column(header='Title', footer='', header_style='', footer_style='', style='magenta', justify='left', vertical='top', overflow='ellipsis', width=None, min_width=None, max_width=None, ratio=None, no_wrap=False, highlight=False, _index=0, _cells=['Star Wars: The Rise of Skywalker'])]"
      ]
     },
     "execution_count": 17,
     "metadata": {},
     "output_type": "execute_result"
    }
   ],
   "source": [
    "table = Table(show_header=True, header_style=\"bold magenta\")\n",
    "table.add_column(\"Title\", style=\"magenta\")\n",
    "table.add_row(yt.title)\n",
    "\n",
    "console.print(table)"
   ]
  },
  {
   "cell_type": "code",
   "execution_count": null,
   "id": "f4e3b906-0340-435f-84fc-bcdce9e25ad4",
   "metadata": {},
   "outputs": [],
   "source": [
    "for key in yt.streams[0].__dict__.keys():print(key) "
   ]
  },
  {
   "cell_type": "code",
   "execution_count": null,
   "id": "af32a38a-148a-48c1-996a-b6244fb28688",
   "metadata": {},
   "outputs": [],
   "source": [
    "VDO_8K = VDO_4K = VDO_1440P = VDO_1080P = False\n",
    "RESOLUTIONS = [{\"label\":\"8K\", \"resv\":\"4320p\", \"size\":\"0\"},\n",
    "               {\"label\":\"4K\", \"resv\":\"2160p\", \"size\":\"0\"},\n",
    "               {\"label\":\"2.5K\", \"resv\":\"1440p\", \"size\":\"0\"},\n",
    "               {\"label\":\"2K\", \"resv\":\"1080p\", \"size\":\"0\"}]\n",
    "\n",
    "# for k in ['4320p', '2160p', '1440p', '1080p']:\n",
    "for i, k in enumerate(RESOLUTIONS):\n",
    "    hd = yt.streams.filter(res=k[\"resv\"]).first()\n",
    "    if hd is None:\n",
    "        # Warning(f'{k} ❌')\n",
    "        if k[\"resv\"] == RESOLUTIONS[0][\"resv\"]: VDO_8K = False\n",
    "        elif k[\"resv\"] == RESOLUTIONS[1][\"resv\"]: VDO_4K = False\n",
    "        elif k[\"resv\"] == RESOLUTIONS[2][\"resv\"]: VDO_1440P = False\n",
    "        elif k[\"resv\"] == RESOLUTIONS[3][\"resv\"]: VDO_1080P = False\n",
    "    else:\n",
    "        # Info(f'{k} ✅ {str(getattr(hd, \"_filesize_mb\")): >10} MB')\n",
    "        RESOLUTIONS[i][\"size\"] = str(getattr(hd, \"_filesize_mb\"))\n",
    "        if k[\"resv\"] == RESOLUTIONS[0][\"resv\"]: VDO_8K = True\n",
    "        elif k[\"resv\"] == RESOLUTIONS[1][\"resv\"]: VDO_4K = True\n",
    "        elif k[\"resv\"] == RESOLUTIONS[2][\"resv\"]: VDO_1440P = True\n",
    "        elif k[\"resv\"] == RESOLUTIONS[3][\"resv\"]: VDO_1080P = True\n"
   ]
  },
  {
   "cell_type": "code",
   "execution_count": null,
   "id": "9746f89c-a387-4e45-b505-8c077204355b",
   "metadata": {},
   "outputs": [],
   "source": [
    "table = Table(show_header=True, header_style=\"bold magenta\")\n",
    "for col in list(map(lambda x: f'{x[\"label\"]}/{x[\"resv\"]}', RESOLUTIONS)):\n",
    "    table.add_column(col)\n",
    "\n",
    "table.add_row(*list(map(lambda x: \"❌\" if x[\"size\"] == \"0\" else f\"✅ {x[\"size\"]} MB\", RESOLUTIONS)))\n",
    "console.print(table)"
   ]
  },
  {
   "cell_type": "code",
   "execution_count": null,
   "id": "9ea6d514-972b-4d7f-ab58-a35e48a15cf0",
   "metadata": {},
   "outputs": [],
   "source": [
    "table = Table(show_header=True, header_style=\"bold magenta\")\n",
    "for key in keys:\n",
    "    table.add_column(key)\n",
    "\n",
    "for idx, stream in enumerate(yt.streams.order_by('resolution').desc()):\n",
    "    # print(stream.__dict__['_filesize_gb'])\n",
    "    # row = tuple(map(lambda x: x, keys)) \n",
    "    row = tuple(map(lambda x: str(getattr(stream, x)), keys)) \n",
    "    # print(row)\n",
    "    table.add_row(*row)\n",
    "\n",
    "console.print(table)"
   ]
  },
  {
   "cell_type": "code",
   "execution_count": null,
   "id": "cf22162f-13ea-4b45-9ea0-e2c42c0d0a68",
   "metadata": {},
   "outputs": [],
   "source": [
    "output_dir = './output'\n",
    "temp_audio = 'temp1.mp3'\n",
    "temp_video = 'temp1.mp4'\n",
    "merge_file = '_merge_.mp4'\n",
    "\n",
    "if os.path.exists(os.path.join(output_dir, f'{yt.title}.mp4')):\n",
    "    os.remove(os.path.join(output_dir, f'{yt.title}.mp4'))\n",
    "if os.path.exists(os.path.join(output_dir, temp_audio)):\n",
    "    os.remove(os.path.join(output_dir, temp_audio))\n",
    "if os.path.exists(os.path.join(output_dir, temp_video)):\n",
    "    os.remove(os.path.join(output_dir, temp_video))\n",
    "if os.path.exists(os.path.join(output_dir, merge_file)):\n",
    "    os.remove(os.path.join(output_dir, merge_file))\n"
   ]
  },
  {
   "cell_type": "code",
   "execution_count": null,
   "id": "6651e445-1ccf-4e80-bcbc-15ac47225b1f",
   "metadata": {},
   "outputs": [],
   "source": [
    "PrintInfo('audio downloading ...')\n",
    "audio = yt.streams.filter(only_audio=True, mime_type=\"audio/mp4\").order_by(\"abr\").desc()\n",
    "t = time.time()\n",
    "audio.first().download(output_path=output_dir, filename=temp_audio, max_retries=3)\n",
    "PrintOK(f'done, ETA= {time.time() - t:.8f}s')"
   ]
  },
  {
   "cell_type": "code",
   "execution_count": null,
   "id": "c785f060-0ee4-4ccb-a5b9-ce37746ba604",
   "metadata": {},
   "outputs": [],
   "source": [
    "if VDO_8K:\n",
    "    PrintInfo('8K Video downloading ...')\n",
    "    video = yt.streams.filter(res='4320p').first()\n",
    "elif not VDO_8K and VDO_4K:\n",
    "    PrintInfo('4K Video downloading ...')\n",
    "    video = yt.streams.filter(res='2160p').first()\n",
    "elif not VDO_8K and not VDO_4K and VDO_1440P:\n",
    "    PrintInfo('1440P Video downloading ...')\n",
    "    video = yt.streams.filter(res='1440p').first()\n",
    "elif not VDO_8K and not VDO_4K and not VDO_1440P and VDO_1080P:\n",
    "    PrintInfo('1080P Video downloading ...')\n",
    "    video = yt.streams.filter(res='1080p').first()\n",
    "else:\n",
    "    PrintWarning('❌ NO HD Video download!')\n",
    "\n",
    "t = time.time()\n",
    "video.download(output_path=output_dir, filename=temp_video, max_retries=3)\n",
    "PrintOK(f'done, ETA= {time.time() - t:.8f}s')\n"
   ]
  },
  {
   "cell_type": "code",
   "execution_count": null,
   "id": "d841b887-f1df-4f89-8d76-ce4e52b34c56",
   "metadata": {},
   "outputs": [],
   "source": [
    "probe = ffmpeg.probe(os.path.join(output_dir, temp_video))"
   ]
  },
  {
   "cell_type": "code",
   "execution_count": null,
   "id": "661a36bf-ab60-471f-91cf-647585312dda",
   "metadata": {},
   "outputs": [],
   "source": [
    "# len(probe['streams'])\n",
    "info = probe['streams'][0]\n",
    "\n",
    "fps = str(info['r_frame_rate']).split('/')[0]\n",
    "# or\n",
    "# fps = str(getattr(video, \"fps\"))\n",
    "\n",
    "table = Table(show_header=True, header_style=\"bold magenta\", title=\"Media Information\")\n",
    "table.add_column(\"FPS\", style=\"magenta\")\n",
    "table.add_column(\"Encoder\", style=\"magenta\")\n",
    "table.add_column(\"Resolution\", style=\"magenta\")\n",
    "table.add_column(\"Ratio\", style=\"magenta\")\n",
    "table.add_row(fps, info['codec_long_name'], f'{info['width']} x {info['height']}', info['display_aspect_ratio'])\n",
    "console.print(table)"
   ]
  },
  {
   "cell_type": "code",
   "execution_count": null,
   "id": "3bee22d5-668b-4598-b239-eb4ee1c33b42",
   "metadata": {},
   "outputs": [],
   "source": [
    "cmd = (' ').join(['ffmpeg',\n",
    "                  '-i', os.path.join(output_dir, temp_video),\n",
    "                  '-i', os.path.join(output_dir, temp_audio),\n",
    "                  '-r', fps,\n",
    "                  '-y',\n",
    "                  os.path.join(output_dir, merge_file)\n",
    "                  ])\n",
    "cmd"
   ]
  },
  {
   "cell_type": "code",
   "execution_count": null,
   "id": "18ace572-0d33-44ca-9b20-46b42af44cf3",
   "metadata": {},
   "outputs": [],
   "source": [
    "PrintInfo('mergeing ...')\n",
    "# ffmpeg -i temp1.mp4 -i temp1.mp3 -y -r 30 1.mp4\n",
    "\n",
    "t = time.time()\n",
    "p = subprocess.Popen(cmd.split(), \n",
    "                     stdin=subprocess.PIPE, \n",
    "                     # creationflags=subprocess.CREATE_NO_WINDOW\n",
    "                    )\n",
    "p.wait()\n"
   ]
  },
  {
   "cell_type": "code",
   "execution_count": null,
   "id": "3a1e0209-8e1d-4e95-9cb5-c9033f054997",
   "metadata": {},
   "outputs": [],
   "source": [
    "os.rename(os.path.join(output_dir, merge_file),\n",
    "          os.path.join(output_dir, f'{yt.title}.mp4'))"
   ]
  },
  {
   "cell_type": "code",
   "execution_count": null,
   "id": "6e4cbe0f-d70c-4c8c-a2be-0ae0a22ed186",
   "metadata": {},
   "outputs": [],
   "source": [
    "if os.path.exists(os.path.join(output_dir, temp_audio)):\n",
    "    os.remove(os.path.join(output_dir, temp_audio))\n",
    "if os.path.exists(os.path.join(output_dir, temp_video)):\n",
    "    os.remove(os.path.join(output_dir, temp_video))"
   ]
  },
  {
   "cell_type": "code",
   "execution_count": null,
   "id": "567d1918-3d21-4fe6-a0f0-24aa9aee1dff",
   "metadata": {},
   "outputs": [],
   "source": [
    "PrintOK('All Done !!!')"
   ]
  }
 ],
 "metadata": {
  "kernelspec": {
   "display_name": "Python 3 (ipykernel)",
   "language": "python",
   "name": "python3"
  },
  "language_info": {
   "codemirror_mode": {
    "name": "ipython",
    "version": 3
   },
   "file_extension": ".py",
   "mimetype": "text/x-python",
   "name": "python",
   "nbconvert_exporter": "python",
   "pygments_lexer": "ipython3",
   "version": "3.12.7"
  }
 },
 "nbformat": 4,
 "nbformat_minor": 5
}
